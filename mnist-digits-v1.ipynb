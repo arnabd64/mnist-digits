{
 "cells": [
  {
   "cell_type": "markdown",
   "id": "2811f6a6",
   "metadata": {
    "papermill": {
     "duration": 0.004751,
     "end_time": "2022-12-12T08:14:16.194168",
     "exception": false,
     "start_time": "2022-12-12T08:14:16.189417",
     "status": "completed"
    },
    "tags": []
   },
   "source": [
    "# MNIST Database Classification\n",
    "\n",
    "The MNIST database is a large database consisting of __labeled__ hand-written digits. There are __70000__ images each of __28 x 28__ pixels. The dataset can be downloaded using popular Deep Learning packages like _Tensorflow_ and _PYTorch_. So we don't need to upload the dataset separately into Kaggle or GitHub storage."
   ]
  },
  {
   "cell_type": "code",
   "execution_count": 1,
   "id": "a695b22c",
   "metadata": {
    "execution": {
     "iopub.execute_input": "2022-12-12T08:14:16.204117Z",
     "iopub.status.busy": "2022-12-12T08:14:16.203647Z",
     "iopub.status.idle": "2022-12-12T08:14:24.499688Z",
     "shell.execute_reply": "2022-12-12T08:14:24.497957Z"
    },
    "papermill": {
     "duration": 8.304086,
     "end_time": "2022-12-12T08:14:24.502567",
     "exception": false,
     "start_time": "2022-12-12T08:14:16.198481",
     "status": "completed"
    },
    "tags": []
   },
   "outputs": [
    {
     "name": "stdout",
     "output_type": "stream",
     "text": [
      "Python 3.7.12\r\n",
      "Tensorflow version: 2.6.4\n"
     ]
    }
   ],
   "source": [
    "import numpy as np\n",
    "import tensorflow as tf\n",
    "import matplotlib.pyplot as plt\n",
    "import seaborn as sns\n",
    "from keras.datasets import mnist\n",
    "from keras.models import Sequential\n",
    "from keras.layers import InputLayer, Flatten, Rescaling, Dense, Dropout\n",
    "from keras.callbacks import ModelCheckpoint\n",
    "\n",
    "# check versions\n",
    "!python --version\n",
    "print(f\"Tensorflow version: {tf.__version__}\")"
   ]
  },
  {
   "cell_type": "markdown",
   "id": "29063254",
   "metadata": {
    "papermill": {
     "duration": 0.003457,
     "end_time": "2022-12-12T08:14:24.510016",
     "exception": false,
     "start_time": "2022-12-12T08:14:24.506559",
     "status": "completed"
    },
    "tags": []
   },
   "source": [
    "## Data Exploration\n",
    "\n",
    "The data can be loaded into the session using `mnist.load_data()` which will output two tuples, one containing the __Training Data__ and the other containing __Testing Data__. Tensorflow will download the dataset from it's repositories and store it in the system's storage so that in the future it doesb't have to re-download the package again."
   ]
  },
  {
   "cell_type": "code",
   "execution_count": 2,
   "id": "18eea8bc",
   "metadata": {
    "execution": {
     "iopub.execute_input": "2022-12-12T08:14:24.520202Z",
     "iopub.status.busy": "2022-12-12T08:14:24.519044Z",
     "iopub.status.idle": "2022-12-12T08:14:25.896904Z",
     "shell.execute_reply": "2022-12-12T08:14:25.895748Z"
    },
    "papermill": {
     "duration": 1.385975,
     "end_time": "2022-12-12T08:14:25.899568",
     "exception": false,
     "start_time": "2022-12-12T08:14:24.513593",
     "status": "completed"
    },
    "tags": []
   },
   "outputs": [
    {
     "name": "stdout",
     "output_type": "stream",
     "text": [
      "Downloading data from https://storage.googleapis.com/tensorflow/tf-keras-datasets/mnist.npz\n",
      "11493376/11490434 [==============================] - 1s 0us/step\n",
      "11501568/11490434 [==============================] - 1s 0us/step\n"
     ]
    }
   ],
   "source": [
    "(X_train, y_train), (X_test, y_test) = mnist.load_data()"
   ]
  },
  {
   "cell_type": "code",
   "execution_count": 3,
   "id": "10bb0c16",
   "metadata": {
    "execution": {
     "iopub.execute_input": "2022-12-12T08:14:25.911741Z",
     "iopub.status.busy": "2022-12-12T08:14:25.911329Z",
     "iopub.status.idle": "2022-12-12T08:14:25.916969Z",
     "shell.execute_reply": "2022-12-12T08:14:25.915905Z"
    },
    "papermill": {
     "duration": 0.014722,
     "end_time": "2022-12-12T08:14:25.919824",
     "exception": false,
     "start_time": "2022-12-12T08:14:25.905102",
     "status": "completed"
    },
    "tags": []
   },
   "outputs": [
    {
     "name": "stdout",
     "output_type": "stream",
     "text": [
      "Training Images: (60000, 28, 28)\n",
      "Training Labels: (60000,) \n",
      "\n",
      "Testing Images: (10000, 28, 28)\n",
      "Training Labels: (10000,)\n"
     ]
    }
   ],
   "source": [
    "# shape of data\n",
    "print(f\"Training Images: {X_train.shape}\")\n",
    "print(f\"Training Labels: {y_train.shape} \\n\")\n",
    "print(f\"Testing Images: {X_test.shape}\")\n",
    "print(f\"Training Labels: {y_test.shape}\")"
   ]
  },
  {
   "cell_type": "code",
   "execution_count": 4,
   "id": "59d30def",
   "metadata": {
    "execution": {
     "iopub.execute_input": "2022-12-12T08:14:25.931520Z",
     "iopub.status.busy": "2022-12-12T08:14:25.931160Z",
     "iopub.status.idle": "2022-12-12T08:14:27.284843Z",
     "shell.execute_reply": "2022-12-12T08:14:27.283563Z"
    },
    "papermill": {
     "duration": 1.362398,
     "end_time": "2022-12-12T08:14:27.287208",
     "exception": false,
     "start_time": "2022-12-12T08:14:25.924810",
     "status": "completed"
    },
    "tags": []
   },
   "outputs": [
    {
     "data": {
      "image/png": "[encoded data removed]",
      "text/plain": [
       "<Figure size 2880x576 with 5 Axes>"
      ]
     },
     "metadata": {},
     "output_type": "display_data"
    }
   ],
   "source": [
    "# visualize first 5 digits in training set\n",
    "f, ax = plt.subplots(1, 5, figsize = (40, 8))\n",
    "for i, label in enumerate(y_train[:5]):\n",
    "    sns.heatmap(X_train[i], cbar = False, ax = ax[i])\n",
    "    ax[i].set_title(f\"Digit: {label}\")\n",
    "    ax[i].set_xticks([])\n",
    "    ax[i].set_yticks([])\n",
    "plt.show()"
   ]
  },
  {
   "cell_type": "markdown",
   "id": "7709c666",
   "metadata": {
    "papermill": {
     "duration": 0.004865,
     "end_time": "2022-12-12T08:14:27.297525",
     "exception": false,
     "start_time": "2022-12-12T08:14:27.292660",
     "status": "completed"
    },
    "tags": []
   },
   "source": [
    "## Building the Model\n",
    "\n",
    "For this notebook, we will be using a __Deep Neural Network__ model with _1000_ hidden layers and automatic rescaling of the inputs. This training does not require the use of any fancy accelerators like a __GPU__ or __TPU__ and can simply run on a CPU. Although a 4-core CPU with 8GB of RAM is recommended."
   ]
  },
  {
   "cell_type": "code",
   "execution_count": 5,
   "id": "0781ca63",
   "metadata": {
    "execution": {
     "iopub.execute_input": "2022-12-12T08:14:27.310057Z",
     "iopub.status.busy": "2022-12-12T08:14:27.308897Z",
     "iopub.status.idle": "2022-12-12T08:14:27.473932Z",
     "shell.execute_reply": "2022-12-12T08:14:27.472869Z"
    },
    "papermill": {
     "duration": 0.175523,
     "end_time": "2022-12-12T08:14:27.478078",
     "exception": false,
     "start_time": "2022-12-12T08:14:27.302555",
     "status": "completed"
    },
    "tags": []
   },
   "outputs": [
    {
     "name": "stdout",
     "output_type": "stream",
     "text": [
      "Model: \"sequential\"\n",
      "_________________________________________________________________\n",
      "Layer (type)                 Output Shape              Param #   \n",
      "=================================================================\n",
      "rescaling (Rescaling)        (None, 28, 28)            0         \n",
      "_________________________________________________________________\n",
      "flatten (Flatten)            (None, 784)               0         \n",
      "_________________________________________________________________\n",
      "dense (Dense)                (None, 784)               615440    \n",
      "_________________________________________________________________\n",
      "dropout (Dropout)            (None, 784)               0         \n",
      "_________________________________________________________________\n",
      "dense_1 (Dense)              (None, 1000)              785000    \n",
      "_________________________________________________________________\n",
      "dropout_1 (Dropout)          (None, 1000)              0         \n",
      "_________________________________________________________________\n",
      "dense_2 (Dense)              (None, 10)                10010     \n",
      "=================================================================\n",
      "Total params: 1,410,450\n",
      "Trainable params: 1,410,450\n",
      "Non-trainable params: 0\n",
      "_________________________________________________________________\n",
      "None\n"
     ]
    },
    {
     "name": "stderr",
     "output_type": "stream",
     "text": [
      "2022-12-12 08:14:27.361272: I tensorflow/core/common_runtime/process_util.cc:146] Creating new thread pool with default inter op setting: 2. Tune using inter_op_parallelism_threads for best performance.\n"
     ]
    }
   ],
   "source": [
    "# architecture of the model\n",
    "model = Sequential([\n",
    "    # input layer specification\n",
    "    InputLayer(input_shape = (28, 28)),\n",
    "    # Data Scaling\n",
    "    Rescaling(scale = 1. / 255),\n",
    "    # Dense Layers\n",
    "    Flatten(),\n",
    "    Dense(units = (28 * 28), activation = 'relu'),\n",
    "    Dropout(rate = 0.3),\n",
    "    Dense(units = 1000, activation = 'relu'),\n",
    "    Dropout(rate = 0.3),\n",
    "    Dense(units = 10, activation = 'softmax')\n",
    "])\n",
    "\n",
    "# optimizer, loss function and performance metrics\n",
    "model.compile(optimizer = 'adam', loss = 'sparse_categorical_crossentropy', metrics = ['accuracy'])\n",
    "\n",
    "# model summary\n",
    "print(model.summary())"
   ]
  },
  {
   "cell_type": "markdown",
   "id": "062f1afe",
   "metadata": {
    "papermill": {
     "duration": 0.005207,
     "end_time": "2022-12-12T08:14:27.489159",
     "exception": false,
     "start_time": "2022-12-12T08:14:27.483952",
     "status": "completed"
    },
    "tags": []
   },
   "source": [
    "## Training the Model\n",
    "\n",
    "This is the fun part, where the model is trained with the data. Since we are dealing _1.4 million_ parameters and _60000_ images and labels, we cannot train the entire neural network using the entire dataset all at once and also a single run down of the entire dataset may not result in a proper trained model. Thus we to send the entire datasets multiple times and also in subsets.\n",
    "\n",
    "+ __Batch__: When we split the training data into smaller datasets, each subset of the training data is called a _Batch_.\n",
    "+ __Batch Size__: The number of training samples in a Batch is called it's _Batch Size_.\n",
    "+ __Epoch__: The process of passing the once training dataset through the neural network, in one or more batches, along with the backpropagation of errors from the output layer is called an epoch.  \n",
    "\n",
    "__Points to be Noted:__\n",
    "\n",
    "1. The larger the batch size the more memory will be needed to complete a single epoch.\n",
    "2. Choosing a small batch size will also result in more number of iterations per epoch since _Iterations per Epoch_ = _Total Training Samples_ / _Batch Size_. This can inadvertently increase the training time.\n",
    "3. Choosing a large batch size also reduces the neural netorks abilility to generalize."
   ]
  },
  {
   "cell_type": "code",
   "execution_count": 6,
   "id": "25dba334",
   "metadata": {
    "execution": {
     "iopub.execute_input": "2022-12-12T08:14:27.502946Z",
     "iopub.status.busy": "2022-12-12T08:14:27.502267Z",
     "iopub.status.idle": "2022-12-12T08:16:02.420042Z",
     "shell.execute_reply": "2022-12-12T08:16:02.418638Z"
    },
    "papermill": {
     "duration": 94.927831,
     "end_time": "2022-12-12T08:16:02.422528",
     "exception": false,
     "start_time": "2022-12-12T08:14:27.494697",
     "status": "completed"
    },
    "tags": []
   },
   "outputs": [
    {
     "name": "stderr",
     "output_type": "stream",
     "text": [
      "2022-12-12 08:14:27.646073: I tensorflow/compiler/mlir/mlir_graph_optimization_pass.cc:185] None of the MLIR Optimization Passes are enabled (registered 2)\n"
     ]
    },
    {
     "name": "stdout",
     "output_type": "stream",
     "text": [
      "313/313 [==============================] - 1s 3ms/step - loss: 0.0679 - accuracy: 0.9834\n",
      "Test Loss: 0.06789\n",
      "Test Accuracy: 98.34 %\n"
     ]
    }
   ],
   "source": [
    "training_history = model.fit(X_train, y_train,\n",
    "                           batch_size = 256,\n",
    "                           epochs = 15,\n",
    "                           validation_data = (X_test, y_test),\n",
    "                           verbose = 0)\n",
    "\n",
    "# evaluate training\n",
    "loss, acc = model.evaluate(X_test, y_test)\n",
    "print(f\"Test Loss: {loss:.5f}\")\n",
    "print(f\"Test Accuracy: {100*acc:.2f} %\")"
   ]
  },
  {
   "cell_type": "markdown",
   "id": "89441198",
   "metadata": {
    "papermill": {
     "duration": 0.00636,
     "end_time": "2022-12-12T08:16:02.435696",
     "exception": false,
     "start_time": "2022-12-12T08:16:02.429336",
     "status": "completed"
    },
    "tags": []
   },
   "source": [
    "## Learning Curve\n",
    "\n",
    "The __Learning Curve__ is used to visualize the progression of Training Loss/Accuracy and Validation Loss/Accuracy with every epoch. This visual tool is quite useful to detect Overfitting and overall speed of learning."
   ]
  },
  {
   "cell_type": "code",
   "execution_count": 7,
   "id": "381cd76c",
   "metadata": {
    "execution": {
     "iopub.execute_input": "2022-12-12T08:16:02.452702Z",
     "iopub.status.busy": "2022-12-12T08:16:02.451506Z",
     "iopub.status.idle": "2022-12-12T08:16:02.877578Z",
     "shell.execute_reply": "2022-12-12T08:16:02.876707Z"
    },
    "papermill": {
     "duration": 0.437331,
     "end_time": "2022-12-12T08:16:02.879773",
     "exception": false,
     "start_time": "2022-12-12T08:16:02.442442",
     "status": "completed"
    },
    "tags": []
   },
   "outputs": [
    {
     "data": {
      "image/png": "[encoded data removed]",
      "text/plain": [
       "<Figure size 1152x576 with 2 Axes>"
      ]
     },
     "metadata": {
      "needs_background": "light"
     },
     "output_type": "display_data"
    }
   ],
   "source": [
    "f, (ax1, ax2) = plt.subplots(1, 2, figsize = (16, 8))\n",
    "# plot training log-loss\n",
    "ax1.plot(np.log(training_history.history['loss']), label = 'Training', color = 'blue', linestyle = 'solid')\n",
    "ax1.set_title('Log-Loss Curve')\n",
    "ax1.set_xlabel('Epochs')\n",
    "ax1.grid(color = 'grey', linestyle = 'dashed')\n",
    "\n",
    "# plot training accuracy\n",
    "ax2.plot(training_history.history['accuracy'], label = 'Training', color = 'blue', linestyle = 'solid')\n",
    "ax2.set_title('Accuracy')\n",
    "ax2.set_xlabel('Epochs')\n",
    "ax2.grid(color = 'grey', linestyle = 'dashed')\n",
    "\n",
    "# Validation Log-Loss\n",
    "ax1.plot(np.log(training_history.history['val_loss']), label = 'Validation', color = 'orange', linestyle = 'dashed', linewidth = 2)\n",
    "\n",
    "# Validation Accuracy\n",
    "ax2.plot(training_history.history['val_accuracy'], label = 'Validation', color = 'orange', linestyle = 'dashed', linewidth = 2)\n",
    "\n",
    "ax1.legend()\n",
    "ax2.legend()\n",
    "plt.show()"
   ]
  },
  {
   "cell_type": "markdown",
   "id": "36281f3b",
   "metadata": {
    "papermill": {
     "duration": 0.007528,
     "end_time": "2022-12-12T08:16:02.895123",
     "exception": false,
     "start_time": "2022-12-12T08:16:02.887595",
     "status": "completed"
    },
    "tags": []
   },
   "source": [
    "## Conclusion\n",
    "\n",
    "1. We have achieved an Accuracy rate of $98.17$% on the Testing dataset which is close to the $98.4$% maximum accuracy achieved using a similar model.\n",
    "2. Our neural netork starts to overfit after the 10th epoch and so the training should be done using only 10 epochs."
   ]
  },
  {
   "cell_type": "markdown",
   "id": "762f2b4f",
   "metadata": {
    "papermill": {
     "duration": 0.007523,
     "end_time": "2022-12-12T08:16:02.910507",
     "exception": false,
     "start_time": "2022-12-12T08:16:02.902984",
     "status": "completed"
    },
    "tags": []
   },
   "source": [
    "# References\n",
    "\n",
    "1. [Effect of batch size on training dynamics - Medium](https://medium.com/mini-distill/effect-of-batch-size-on-training-dynamics-21c14f7a716e)\n",
    "2. [Learning Curve - Wikipedia](https://en.wikipedia.org/wiki/Learning_curve_(machine_learning))\n",
    "3. [MNIST Dataset - Wikipedia](https://en.wikipedia.org/wiki/MNIST_database)"
   ]
  }
 ],
 "metadata": {
  "kernelspec": {
   "display_name": "Python 3",
   "language": "python",
   "name": "python3"
  },
  "language_info": {
   "codemirror_mode": {
    "name": "ipython",
    "version": 3
   },
   "file_extension": ".py",
   "mimetype": "text/x-python",
   "name": "python",
   "nbconvert_exporter": "python",
   "pygments_lexer": "ipython3",
   "version": "3.7.12"
  },
  "papermill": {
   "default_parameters": {},
   "duration": 118.200395,
   "end_time": "2022-12-12T08:16:05.841853",
   "environment_variables": {},
   "exception": null,
   "input_path": "__notebook__.ipynb",
   "output_path": "__notebook__.ipynb",
   "parameters": {},
   "start_time": "2022-12-12T08:14:07.641458",
   "version": "2.3.4"
  }
 },
 "nbformat": 4,
 "nbformat_minor": 5
}
